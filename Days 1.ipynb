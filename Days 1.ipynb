{
 "cells": [
  {
   "cell_type": "markdown",
   "id": "cb2a22e8",
   "metadata": {},
   "source": [
    "# Print Function"
   ]
  },
  {
   "cell_type": "code",
   "execution_count": null,
   "id": "5e0a4eeb",
   "metadata": {},
   "outputs": [],
   "source": [
    "print(\"My name is Nirob Hossain.\",end=\"\")\n",
    "print(\"I was born at Shariatpur.\",end=\"\")\n",
    "print(\"I am pursuing my degree at statistics from Khulna University.\")"
   ]
  },
  {
   "cell_type": "markdown",
   "id": "da0d0f9f",
   "metadata": {},
   "source": [
    "\n",
    "# Data Type"
   ]
  },
  {
   "cell_type": "markdown",
   "id": "2eba16f4",
   "metadata": {},
   "source": [
    "Integer"
   ]
  },
  {
   "cell_type": "code",
   "execution_count": 14,
   "id": "59e17e4d",
   "metadata": {},
   "outputs": [
    {
     "name": "stdout",
     "output_type": "stream",
     "text": [
      "12\n"
     ]
    },
    {
     "data": {
      "text/plain": [
       "int"
      ]
     },
     "execution_count": 14,
     "metadata": {},
     "output_type": "execute_result"
    }
   ],
   "source": [
    "print(12)\n",
    "type(12)"
   ]
  },
  {
   "cell_type": "markdown",
   "id": "c59a1db4",
   "metadata": {},
   "source": [
    " Float"
   ]
  },
  {
   "cell_type": "code",
   "execution_count": 16,
   "id": "da5fd08d",
   "metadata": {},
   "outputs": [
    {
     "name": "stdout",
     "output_type": "stream",
     "text": [
      "1.2\n"
     ]
    },
    {
     "data": {
      "text/plain": [
       "float"
      ]
     },
     "execution_count": 16,
     "metadata": {},
     "output_type": "execute_result"
    }
   ],
   "source": [
    "print(1.2)\n",
    "type(1.2)"
   ]
  },
  {
   "cell_type": "markdown",
   "id": "c7b5a062",
   "metadata": {},
   "source": [
    "Boolian"
   ]
  },
  {
   "cell_type": "code",
   "execution_count": 17,
   "id": "0ad64e94",
   "metadata": {},
   "outputs": [
    {
     "name": "stdout",
     "output_type": "stream",
     "text": [
      "True\n"
     ]
    },
    {
     "data": {
      "text/plain": [
       "bool"
      ]
     },
     "execution_count": 17,
     "metadata": {},
     "output_type": "execute_result"
    }
   ],
   "source": [
    "print(True)\n",
    "type(True)"
   ]
  },
  {
   "cell_type": "code",
   "execution_count": null,
   "id": "b8945bda",
   "metadata": {},
   "outputs": [],
   "source": []
  }
 ],
 "metadata": {
  "kernelspec": {
   "display_name": "Python 3 (ipykernel)",
   "language": "python",
   "name": "python3"
  },
  "language_info": {
   "codemirror_mode": {
    "name": "ipython",
    "version": 3
   },
   "file_extension": ".py",
   "mimetype": "text/x-python",
   "name": "python",
   "nbconvert_exporter": "python",
   "pygments_lexer": "ipython3",
   "version": "3.11.5"
  }
 },
 "nbformat": 4,
 "nbformat_minor": 5
}
